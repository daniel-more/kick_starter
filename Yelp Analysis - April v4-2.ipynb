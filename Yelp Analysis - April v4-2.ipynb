{
 "cells": [
  {
   "cell_type": "code",
   "execution_count": 1,
   "metadata": {},
   "outputs": [
    {
     "name": "stdout",
     "output_type": "stream",
     "text": [
      "Requirement already satisfied: wordcloud in /Users/daniel/anaconda3/lib/python3.7/site-packages (1.5.0)\n",
      "Requirement already satisfied: pillow in /Users/daniel/anaconda3/lib/python3.7/site-packages (from wordcloud) (5.3.0)\n",
      "Requirement already satisfied: numpy>=1.6.1 in /Users/daniel/anaconda3/lib/python3.7/site-packages (from wordcloud) (1.15.4)\n",
      "[nltk_data] Downloading package brown to /Users/daniel/nltk_data...\n",
      "[nltk_data]   Package brown is already up-to-date!\n",
      "[nltk_data] Downloading package punkt to /Users/daniel/nltk_data...\n",
      "[nltk_data]   Package punkt is already up-to-date!\n",
      "[nltk_data] Downloading package wordnet to /Users/daniel/nltk_data...\n",
      "[nltk_data]   Package wordnet is already up-to-date!\n",
      "[nltk_data] Downloading package averaged_perceptron_tagger to\n",
      "[nltk_data]     /Users/daniel/nltk_data...\n",
      "[nltk_data]   Package averaged_perceptron_tagger is already up-to-\n",
      "[nltk_data]       date!\n",
      "[nltk_data] Downloading package conll2000 to\n",
      "[nltk_data]     /Users/daniel/nltk_data...\n",
      "[nltk_data]   Package conll2000 is already up-to-date!\n",
      "[nltk_data] Downloading package movie_reviews to\n",
      "[nltk_data]     /Users/daniel/nltk_data...\n",
      "[nltk_data]   Package movie_reviews is already up-to-date!\n",
      "Finished.\n"
     ]
    }
   ],
   "source": [
    "!pip install wordcloud\n",
    "!python -m textblob.download_corpora"
   ]
  },
  {
   "cell_type": "code",
   "execution_count": 2,
   "metadata": {},
   "outputs": [],
   "source": [
    "# importing all necessery modules \n",
    "import pandas as pd\n",
    "import numpy as np\n",
    "import seaborn as sns\n",
    "import matplotlib.pyplot as plt\n",
    "\n",
    "from textblob import TextBlob\n",
    "\n",
    "from wordcloud import WordCloud, STOPWORDS \n",
    "import matplotlib.pyplot as plt \n",
    "import pandas as pd \n",
    "#from statsmodels.tsa import ExponentialSmoothing\n",
    "#from statsmodels.tsa.holtwinters import ExponentialSmoothing, SimpleExpSmoothing, Holt"
   ]
  },
  {
   "cell_type": "code",
   "execution_count": 3,
   "metadata": {},
   "outputs": [],
   "source": [
    "#loads the business dataset which contains details about each restaurant\n",
    "location = \"dataset/business.csv\"\n",
    "dfbs = pd.read_csv(location, low_memory=False)"
   ]
  },
  {
   "cell_type": "code",
   "execution_count": 4,
   "metadata": {},
   "outputs": [],
   "source": [
    "#remove innecesary columns\n",
    "dfbs = dfbs[[\n",
    "    \n",
    "       #'address', 'attributes', 'attributes_AcceptsInsurance',\n",
    "    'attributes_AgesAllowed', \n",
    "    'attributes_Alcohol', \n",
    "    #'attributes_Ambience',\n",
    "        'attributes_BYOB', 'attributes_BYOBCorkage', \n",
    "    #'attributes_BestNights',\n",
    "        'attributes_BikeParking', 'attributes_BusinessAcceptsBitcoin',\n",
    "        'attributes_BusinessAcceptsCreditCards', \n",
    "    #'attributes_BusinessParking',\n",
    "     #   'attributes_ByAppointmentOnly', 'attributes_Caters',\n",
    "        'attributes_CoatCheck', 'attributes_Corkage',\n",
    "      #  'attributes_DietaryRestrictions', 'attributes_DogsAllowed',\n",
    "        'attributes_DriveThru', 'attributes_GoodForDancing',\n",
    "        'attributes_GoodForKids', \n",
    "    #'attributes_GoodForMeal',\n",
    "    #    'attributes_HairSpecializesIn', \n",
    "    'attributes_HappyHour',\n",
    "        'attributes_HasTV', \n",
    "    #'attributes_Music', \n",
    "    'attributes_NoiseLevel',\n",
    "        'attributes_Open24Hours', 'attributes_OutdoorSeating',\n",
    "        'attributes_RestaurantsAttire', 'attributes_RestaurantsCounterService',\n",
    "        'attributes_RestaurantsDelivery', 'attributes_RestaurantsGoodForGroups',\n",
    "        'attributes_RestaurantsPriceRange2',\n",
    "        'attributes_RestaurantsReservations',\n",
    "        'attributes_RestaurantsTableService', 'attributes_RestaurantsTakeOut',\n",
    "        'attributes_Smoking', 'attributes_WheelchairAccessible',\n",
    "        'attributes_WiFi', \n",
    "    'business_id', \n",
    "    'categories', \n",
    "    #'city', 'hours',\n",
    "    #    'hours_Friday', 'hours_Monday', 'hours_Saturday', 'hours_Sunday',\n",
    "    #    'hours_Thursday', 'hours_Tuesday', 'hours_Wednesday', 'is_open',\n",
    "        'latitude', 'longitude', \n",
    "    #'name', 'postal_code', \n",
    "    'review_count', \n",
    "    #'stars',\n",
    "        'state']]"
   ]
  },
  {
   "cell_type": "code",
   "execution_count": 5,
   "metadata": {},
   "outputs": [
    {
     "data": {
      "text/plain": [
       "('Business columns',\n",
       " Index(['attributes_AgesAllowed', 'attributes_Alcohol', 'attributes_BYOB',\n",
       "        'attributes_BYOBCorkage', 'attributes_BikeParking',\n",
       "        'attributes_BusinessAcceptsBitcoin',\n",
       "        'attributes_BusinessAcceptsCreditCards', 'attributes_CoatCheck',\n",
       "        'attributes_Corkage', 'attributes_DriveThru',\n",
       "        'attributes_GoodForDancing', 'attributes_GoodForKids',\n",
       "        'attributes_HappyHour', 'attributes_HasTV', 'attributes_NoiseLevel',\n",
       "        'attributes_Open24Hours', 'attributes_OutdoorSeating',\n",
       "        'attributes_RestaurantsAttire', 'attributes_RestaurantsCounterService',\n",
       "        'attributes_RestaurantsDelivery', 'attributes_RestaurantsGoodForGroups',\n",
       "        'attributes_RestaurantsPriceRange2',\n",
       "        'attributes_RestaurantsReservations',\n",
       "        'attributes_RestaurantsTableService', 'attributes_RestaurantsTakeOut',\n",
       "        'attributes_Smoking', 'attributes_WheelchairAccessible',\n",
       "        'attributes_WiFi', 'business_id', 'categories', 'latitude', 'longitude',\n",
       "        'review_count', 'state'],\n",
       "       dtype='object'),\n",
       " (192609, 34))"
      ]
     },
     "execution_count": 5,
     "metadata": {},
     "output_type": "execute_result"
    }
   ],
   "source": [
    "\"Business columns\", dfbs.columns, dfbs.shape"
   ]
  },
  {
   "cell_type": "code",
   "execution_count": 6,
   "metadata": {},
   "outputs": [],
   "source": [
    "# creating a columns that contains whether the business is a restaurant\n",
    "dfbs[\"Restaurant?\"]= dfbs[\"categories\"].str.find('Restaurant') \n",
    "dfbs[\"restaurant?\"]= dfbs[\"categories\"].str.find('restaurant') "
   ]
  },
  {
   "cell_type": "code",
   "execution_count": 7,
   "metadata": {},
   "outputs": [],
   "source": [
    "dfbs_restaurants = dfbs[(dfbs['Restaurant?'] > 0) | (dfbs['restaurant?'] > 0) ]"
   ]
  },
  {
   "cell_type": "code",
   "execution_count": 8,
   "metadata": {},
   "outputs": [
    {
     "data": {
      "text/plain": [
       "(41435, 36)"
      ]
     },
     "execution_count": 8,
     "metadata": {},
     "output_type": "execute_result"
    }
   ],
   "source": [
    "dfbs_restaurants.shape"
   ]
  },
  {
   "cell_type": "code",
   "execution_count": 9,
   "metadata": {},
   "outputs": [
    {
     "data": {
      "text/plain": [
       "Index(['attributes_AgesAllowed', 'attributes_Alcohol', 'attributes_BYOB',\n",
       "       'attributes_BYOBCorkage', 'attributes_BikeParking',\n",
       "       'attributes_BusinessAcceptsBitcoin',\n",
       "       'attributes_BusinessAcceptsCreditCards', 'attributes_CoatCheck',\n",
       "       'attributes_Corkage', 'attributes_DriveThru',\n",
       "       'attributes_GoodForDancing', 'attributes_GoodForKids',\n",
       "       'attributes_HappyHour', 'attributes_HasTV', 'attributes_NoiseLevel',\n",
       "       'attributes_Open24Hours', 'attributes_OutdoorSeating',\n",
       "       'attributes_RestaurantsAttire', 'attributes_RestaurantsCounterService',\n",
       "       'attributes_RestaurantsDelivery', 'attributes_RestaurantsGoodForGroups',\n",
       "       'attributes_RestaurantsPriceRange2',\n",
       "       'attributes_RestaurantsReservations',\n",
       "       'attributes_RestaurantsTableService', 'attributes_RestaurantsTakeOut',\n",
       "       'attributes_Smoking', 'attributes_WheelchairAccessible',\n",
       "       'attributes_WiFi', 'business_id', 'categories', 'latitude', 'longitude',\n",
       "       'review_count', 'state'],\n",
       "      dtype='object')"
      ]
     },
     "execution_count": 9,
     "metadata": {},
     "output_type": "execute_result"
    }
   ],
   "source": [
    "dfbs_restaurants = dfbs_restaurants.drop(['Restaurant?', 'restaurant?'], axis=1)\n",
    "dfbs_restaurants.columns"
   ]
  },
  {
   "cell_type": "code",
   "execution_count": 10,
   "metadata": {},
   "outputs": [],
   "source": [
    "#load the datasets containing all the reviews per business \n",
    "location = \"dataset/review.csv\"\n",
    "dfrv = pd.read_csv(location, low_memory=False)"
   ]
  },
  {
   "cell_type": "code",
   "execution_count": 11,
   "metadata": {},
   "outputs": [
    {
     "data": {
      "text/plain": [
       "('Review columns',\n",
       " Index(['business_id', 'cool', 'date', 'funny', 'review_id', 'stars', 'text',\n",
       "        'useful', 'user_id'],\n",
       "       dtype='object'),\n",
       " (6685902, 9))"
      ]
     },
     "execution_count": 11,
     "metadata": {},
     "output_type": "execute_result"
    }
   ],
   "source": [
    "\"Review columns\", dfrv.columns, dfrv.shape"
   ]
  },
  {
   "cell_type": "code",
   "execution_count": 12,
   "metadata": {},
   "outputs": [],
   "source": [
    "# the most important step, merges data from business with their reviews\n",
    "dfbsrv_restaurants = pd.merge(dfbs_restaurants, dfrv, on='business_id')"
   ]
  },
  {
   "cell_type": "code",
   "execution_count": 13,
   "metadata": {},
   "outputs": [
    {
     "data": {
      "text/plain": [
       "(3149598, 42)"
      ]
     },
     "execution_count": 13,
     "metadata": {},
     "output_type": "execute_result"
    }
   ],
   "source": [
    "dfbsrv_restaurants.shape"
   ]
  },
  {
   "cell_type": "code",
   "execution_count": 14,
   "metadata": {},
   "outputs": [
    {
     "data": {
      "text/plain": [
       "Index(['attributes_AgesAllowed', 'attributes_Alcohol', 'attributes_BYOB',\n",
       "       'attributes_BYOBCorkage', 'attributes_BikeParking',\n",
       "       'attributes_BusinessAcceptsBitcoin',\n",
       "       'attributes_BusinessAcceptsCreditCards', 'attributes_CoatCheck',\n",
       "       'attributes_Corkage', 'attributes_DriveThru',\n",
       "       'attributes_GoodForDancing', 'attributes_GoodForKids',\n",
       "       'attributes_HappyHour', 'attributes_HasTV', 'attributes_NoiseLevel',\n",
       "       'attributes_Open24Hours', 'attributes_OutdoorSeating',\n",
       "       'attributes_RestaurantsAttire', 'attributes_RestaurantsCounterService',\n",
       "       'attributes_RestaurantsDelivery', 'attributes_RestaurantsGoodForGroups',\n",
       "       'attributes_RestaurantsPriceRange2',\n",
       "       'attributes_RestaurantsReservations',\n",
       "       'attributes_RestaurantsTableService', 'attributes_RestaurantsTakeOut',\n",
       "       'attributes_Smoking', 'attributes_WheelchairAccessible',\n",
       "       'attributes_WiFi', 'business_id', 'categories', 'latitude', 'longitude',\n",
       "       'review_count', 'state', 'cool', 'date', 'funny', 'review_id', 'stars',\n",
       "       'text', 'useful', 'user_id'],\n",
       "      dtype='object')"
      ]
     },
     "execution_count": 14,
     "metadata": {},
     "output_type": "execute_result"
    }
   ],
   "source": [
    "dfbsrv_restaurants.columns"
   ]
  },
  {
   "cell_type": "code",
   "execution_count": 15,
   "metadata": {},
   "outputs": [],
   "source": [
    "#location = \"dfbsrv_restaurants.csv\"\n",
    "#dfbsrv_restaurants_load = pd.read_csv(location, low_memory=False)   #, encoding='latin1' "
   ]
  },
  {
   "cell_type": "code",
   "execution_count": 16,
   "metadata": {},
   "outputs": [],
   "source": [
    "#location = \"dfx_restaurants.xlsx\"\n",
    "#df = pd.read_excel (location , sheet_name='Sheet_name_1')\n",
    "#print (df)"
   ]
  },
  {
   "cell_type": "code",
   "execution_count": 17,
   "metadata": {},
   "outputs": [],
   "source": [
    "#dfbsrv_restaurants = dfbsrv_restaurants_load"
   ]
  },
  {
   "cell_type": "code",
   "execution_count": 18,
   "metadata": {},
   "outputs": [],
   "source": [
    "def unique_col_values(df):\n",
    "    for column in df:\n",
    "        print(\"{} | {} | {}\".format(\n",
    "            df[column].name, len(df[column].unique()), df[column].dtype\n",
    "        ))"
   ]
  },
  {
   "cell_type": "code",
   "execution_count": 19,
   "metadata": {},
   "outputs": [
    {
     "name": "stdout",
     "output_type": "stream",
     "text": [
      "attributes_AgesAllowed | 5 | object\n",
      "attributes_Alcohol | 8 | object\n",
      "attributes_BYOB | 2 | object\n",
      "attributes_BYOBCorkage | 8 | object\n",
      "attributes_BikeParking | 4 | object\n",
      "attributes_BusinessAcceptsBitcoin | 3 | object\n",
      "attributes_BusinessAcceptsCreditCards | 4 | object\n",
      "attributes_CoatCheck | 4 | object\n",
      "attributes_Corkage | 3 | object\n",
      "attributes_DriveThru | 4 | object\n",
      "attributes_GoodForDancing | 4 | object\n",
      "attributes_GoodForKids | 4 | object\n",
      "attributes_HappyHour | 4 | object\n",
      "attributes_HasTV | 4 | object\n",
      "attributes_NoiseLevel | 10 | object\n",
      "attributes_Open24Hours | 3 | object\n",
      "attributes_OutdoorSeating | 4 | object\n",
      "attributes_RestaurantsAttire | 8 | object\n",
      "attributes_RestaurantsCounterService | 3 | object\n",
      "attributes_RestaurantsDelivery | 4 | object\n",
      "attributes_RestaurantsGoodForGroups | 4 | object\n",
      "attributes_RestaurantsPriceRange2 | 6 | object\n",
      "attributes_RestaurantsReservations | 4 | object\n",
      "attributes_RestaurantsTableService | 4 | object\n",
      "attributes_RestaurantsTakeOut | 4 | object\n",
      "attributes_Smoking | 7 | object\n",
      "attributes_WheelchairAccessible | 4 | object\n",
      "attributes_WiFi | 8 | object\n",
      "business_id | 41435 | object\n",
      "categories | 24782 | object\n",
      "latitude | 38271 | float64\n",
      "longitude | 37996 | float64\n",
      "review_count | 1048 | int64\n",
      "state | 21 | object\n",
      "cool | 161 | int64\n",
      "date | 3119880 | object\n",
      "funny | 209 | float64\n",
      "review_id | 3149598 | object\n",
      "stars | 5 | float64\n",
      "text | 3142554 | object\n",
      "useful | 245 | float64\n",
      "user_id | 981241 | object\n"
     ]
    }
   ],
   "source": [
    "unique_col_values(dfbsrv_restaurants)"
   ]
  },
  {
   "cell_type": "code",
   "execution_count": 20,
   "metadata": {},
   "outputs": [],
   "source": [
    "#unique_col_values(dfrv)"
   ]
  },
  {
   "cell_type": "code",
   "execution_count": 21,
   "metadata": {},
   "outputs": [
    {
     "data": {
      "text/plain": [
       "(array([nan, \"u'21plus'\", \"u'allages'\", \"u'19plus'\", \"u'18plus'\"],\n",
       "       dtype=object),\n",
       " array([\"u'full_bar'\", \"u'beer_and_wine'\", \"u'none'\", nan, \"'none'\",\n",
       "        \"'beer_and_wine'\", \"'full_bar'\", 'None'], dtype=object),\n",
       " array([nan, False], dtype=object),\n",
       " array([nan, 'True', 'False', 'None'], dtype=object))"
      ]
     },
     "execution_count": 21,
     "metadata": {},
     "output_type": "execute_result"
    }
   ],
   "source": [
    "dfbsrv_restaurants['attributes_AgesAllowed'].unique(), dfbsrv_restaurants['attributes_Alcohol'].unique(), dfbsrv_restaurants['attributes_BYOB'].unique(), dfbsrv_restaurants['attributes_BusinessAcceptsCreditCards'].unique()"
   ]
  },
  {
   "cell_type": "code",
   "execution_count": 22,
   "metadata": {},
   "outputs": [
    {
     "data": {
      "text/plain": [
       "(array([ 128,  170,   16, ..., 1076, 3300,  514]),\n",
       " array([\"u'no'\", nan, \"u'free'\", \"'no'\", \"'free'\", 'None', \"'paid'\",\n",
       "        \"u'paid'\"], dtype=object),\n",
       " array([nan, 'False', 'True', 'None'], dtype=object),\n",
       " array(['2', '1', '3', nan, '4', 'None'], dtype=object))"
      ]
     },
     "execution_count": 22,
     "metadata": {},
     "output_type": "execute_result"
    }
   ],
   "source": [
    "dfbsrv_restaurants['review_count'].unique(), dfbsrv_restaurants['attributes_WiFi'].unique(), dfbsrv_restaurants['attributes_HappyHour'].unique(), dfbsrv_restaurants['attributes_RestaurantsPriceRange2'].unique()"
   ]
  },
  {
   "cell_type": "code",
   "execution_count": 23,
   "metadata": {},
   "outputs": [
    {
     "data": {
      "text/plain": [
       "(array([nan, 'False', 'True', 'None'], dtype=object),\n",
       " array([nan, False, True], dtype=object),\n",
       " array(['False', 'True', nan, 'None'], dtype=object),\n",
       " array([\"u'loud'\", \"u'average'\", nan, \"'average'\", \"u'quiet'\", \"'quiet'\",\n",
       "        \"u'very_loud'\", \"'loud'\", \"'very_loud'\", 'None'], dtype=object))"
      ]
     },
     "execution_count": 23,
     "metadata": {},
     "output_type": "execute_result"
    }
   ],
   "source": [
    "dfbsrv_restaurants['attributes_CoatCheck'].unique(), dfbsrv_restaurants['attributes_Open24Hours'].unique(), dfbsrv_restaurants['attributes_HasTV'].unique(), dfbsrv_restaurants['attributes_NoiseLevel'].unique()\n",
    "#,dfbs['attributes_Music'].unique()"
   ]
  },
  {
   "cell_type": "code",
   "execution_count": 24,
   "metadata": {},
   "outputs": [
    {
     "data": {
      "text/plain": [
       "array(['True', nan, 'False', 'None'], dtype=object)"
      ]
     },
     "execution_count": 24,
     "metadata": {},
     "output_type": "execute_result"
    }
   ],
   "source": [
    "dfbsrv_restaurants['attributes_GoodForKids'].unique()"
   ]
  },
  {
   "cell_type": "code",
   "execution_count": 25,
   "metadata": {},
   "outputs": [
    {
     "name": "stdout",
     "output_type": "stream",
     "text": [
      "<class 'pandas.core.frame.DataFrame'>\n",
      "Int64Index: 3149598 entries, 0 to 3149597\n",
      "Data columns (total 42 columns):\n",
      "attributes_AgesAllowed                   object\n",
      "attributes_Alcohol                       object\n",
      "attributes_BYOB                          object\n",
      "attributes_BYOBCorkage                   object\n",
      "attributes_BikeParking                   object\n",
      "attributes_BusinessAcceptsBitcoin        object\n",
      "attributes_BusinessAcceptsCreditCards    object\n",
      "attributes_CoatCheck                     object\n",
      "attributes_Corkage                       object\n",
      "attributes_DriveThru                     object\n",
      "attributes_GoodForDancing                object\n",
      "attributes_GoodForKids                   object\n",
      "attributes_HappyHour                     object\n",
      "attributes_HasTV                         object\n",
      "attributes_NoiseLevel                    object\n",
      "attributes_Open24Hours                   object\n",
      "attributes_OutdoorSeating                object\n",
      "attributes_RestaurantsAttire             object\n",
      "attributes_RestaurantsCounterService     object\n",
      "attributes_RestaurantsDelivery           object\n",
      "attributes_RestaurantsGoodForGroups      object\n",
      "attributes_RestaurantsPriceRange2        object\n",
      "attributes_RestaurantsReservations       object\n",
      "attributes_RestaurantsTableService       object\n",
      "attributes_RestaurantsTakeOut            object\n",
      "attributes_Smoking                       object\n",
      "attributes_WheelchairAccessible          object\n",
      "attributes_WiFi                          object\n",
      "business_id                              object\n",
      "categories                               object\n",
      "latitude                                 float64\n",
      "longitude                                float64\n",
      "review_count                             int64\n",
      "state                                    object\n",
      "cool                                     int64\n",
      "date                                     object\n",
      "funny                                    float64\n",
      "review_id                                object\n",
      "stars                                    float64\n",
      "text                                     object\n",
      "useful                                   float64\n",
      "user_id                                  object\n",
      "dtypes: float64(5), int64(2), object(35)\n",
      "memory usage: 1.0+ GB\n"
     ]
    }
   ],
   "source": [
    "dfbsrv_restaurants.info()"
   ]
  },
  {
   "cell_type": "code",
   "execution_count": 26,
   "metadata": {},
   "outputs": [],
   "source": [
    "#[\"u'full_bar'\", \"u'beer_and_wine'\", \"u'none'\", nan, \"'none'\",\n",
    "#        \"'beer_and_wine'\", \"'full_bar'\", 'None']\n",
    "dfbsrv_restaurants = dfbsrv_restaurants.replace(to_replace =\"u'full_bar'\", \n",
    "                 value =\"'full_bar'\") \n",
    "#dfbsrv_restaurants = dfbsrv_restaurants.replace(to_replace =\"'full_bar'\", \n",
    "#                 value =\"'full bar'\") \n",
    "dfbsrv_restaurants = dfbsrv_restaurants.replace(to_replace =\"u'beer_and_wine'\", \n",
    "                 value =\"'beer_and_wine'\") \n",
    "dfbsrv_restaurants = dfbsrv_restaurants.replace(to_replace =\"u'none'\", \n",
    "                 value ='None') \n",
    "dfbsrv_restaurants = dfbsrv_restaurants.replace(to_replace =\"'none'\", \n",
    "                 value ='None') \n",
    "dfbsrv_restaurants = dfbsrv_restaurants.replace(to_replace =\"'None'\", \n",
    "                 value ='None') "
   ]
  },
  {
   "cell_type": "code",
   "execution_count": 27,
   "metadata": {},
   "outputs": [],
   "source": [
    "#\"u'no'\", nan, \"u'free'\", \"'no'\", \"'free'\", 'None', \"'paid'\",\n",
    "#        \"u'paid'\"\n",
    "dfbsrv_restaurants = dfbsrv_restaurants.replace(to_replace =\"u'no'\", \n",
    "                 value =\"'no'\") \n",
    "dfbsrv_restaurants = dfbsrv_restaurants.replace(to_replace =\"u'free'\", \n",
    "                 value =\"'free'\") \n",
    "dfbsrv_restaurants = dfbsrv_restaurants.replace(to_replace =\"u'paid'\", \n",
    "                 value =\"'paid'\") \n"
   ]
  },
  {
   "cell_type": "code",
   "execution_count": 28,
   "metadata": {},
   "outputs": [],
   "source": [
    "#\"u'loud'\", \"u'average'\", nan, \"'average'\", \"u'quiet'\", \"'quiet'\",\n",
    "     #   \"u'very_loud'\", \"'loud'\", \"'very_loud'\", 'None'\n",
    "\n",
    "dfbsrv_restaurants = dfbsrv_restaurants.replace(to_replace =\"u'loud'\", \n",
    "                 value =\"'loud'\") \n",
    "dfbsrv_restaurants = dfbsrv_restaurants.replace(to_replace =\"u'average'\", \n",
    "                 value =\"'average'\") \n",
    "dfbsrv_restaurants = dfbsrv_restaurants.replace(to_replace =\"u'quiet'\", \n",
    "                 value =\"'quiet'\") \n",
    "dfbsrv_restaurants = dfbsrv_restaurants.replace(to_replace =\"u'very_loud'\", \n",
    "                 value =\"'very_loud'\") "
   ]
  },
  {
   "cell_type": "code",
   "execution_count": 29,
   "metadata": {},
   "outputs": [],
   "source": [
    "dfbsrv_restaurants = dfbsrv_restaurants.replace(to_replace = [\"u'21plus'\",\"u'19plus'\", \"u'18plus'\"], \n",
    "                 value =\"'18plus'\") "
   ]
  },
  {
   "cell_type": "code",
   "execution_count": 30,
   "metadata": {},
   "outputs": [],
   "source": [
    "def bar_plot_atrribute(attribute_to_chart):\n",
    "    #attribute_to_chart = 'attributes_WiFi'\n",
    "    restaurant_count = dfbsrv_restaurants[attribute_to_chart].value_counts()\n",
    "\n",
    "    sns.set(style=\"darkgrid\")\n",
    "    \n",
    "    plt.figure(figsize = (22, 5), facecolor = None) \n",
    "    plt.title('Frequency Distribution of ' + attribute_to_chart)\n",
    "    plt.ylabel('Number of reviews', fontsize=12)\n",
    "    plt.xlabel(attribute_to_chart, fontsize=12)\n",
    "    ax = sns.barplot(restaurant_count.index, restaurant_count.values, alpha=0.9)\n",
    "    #plt.figure(figsize = (22, 8), facecolor = None) \n",
    "    #ax = sns.barplot(x = 'index', y = 'frequency',data = top.reset_index())\n",
    "    #plt.show()\n"
   ]
  },
  {
   "cell_type": "code",
   "execution_count": 31,
   "metadata": {},
   "outputs": [
    {
     "data": {
      "image/png": "[encoded data removed]",
      "text/plain": [
       "<Figure size 1584x360 with 1 Axes>"
      ]
     },
     "metadata": {},
     "output_type": "display_data"
    }
   ],
   "source": [
    "bar_plot_atrribute('attributes_WiFi')"
   ]
  },
  {
   "cell_type": "code",
   "execution_count": 32,
   "metadata": {},
   "outputs": [
    {
     "data": {
      "image/png": "[encoded data removed]",
      "text/plain": [
       "<Figure size 1584x360 with 1 Axes>"
      ]
     },
     "metadata": {},
     "output_type": "display_data"
    }
   ],
   "source": [
    "bar_plot_atrribute('attributes_AgesAllowed')"
   ]
  },
  {
   "cell_type": "code",
   "execution_count": 33,
   "metadata": {},
   "outputs": [
    {
     "data": {
      "image/png": "[encoded data removed]",
      "text/plain": [
       "<Figure size 1584x360 with 1 Axes>"
      ]
     },
     "metadata": {},
     "output_type": "display_data"
    }
   ],
   "source": [
    "bar_plot_atrribute('attributes_Alcohol')"
   ]
  },
  {
   "cell_type": "code",
   "execution_count": 34,
   "metadata": {},
   "outputs": [
    {
     "data": {
      "image/png": "[encoded data removed]",
      "text/plain": [
       "<Figure size 1584x360 with 1 Axes>"
      ]
     },
     "metadata": {},
     "output_type": "display_data"
    }
   ],
   "source": [
    "bar_plot_atrribute('attributes_NoiseLevel')"
   ]
  },
  {
   "cell_type": "code",
   "execution_count": 35,
   "metadata": {},
   "outputs": [
    {
     "data": {
      "text/plain": [
       "state\n",
       "AB       46003\n",
       "AL           3\n",
       "AR           7\n",
       "AZ      887835\n",
       "CON          3\n",
       "IL       22180\n",
       "NC      208272\n",
       "NE           8\n",
       "NM          14\n",
       "NV     1082553\n",
       "NY          91\n",
       "OH      169787\n",
       "ON      407121\n",
       "PA      150098\n",
       "QC       93632\n",
       "SC       11024\n",
       "VT           5\n",
       "WA           3\n",
       "WI       70948\n",
       "XGM          3\n",
       "XWY          8\n",
       "dtype: int64"
      ]
     },
     "execution_count": 35,
     "metadata": {},
     "output_type": "execute_result"
    }
   ],
   "source": [
    "dfbsrv_restaurants.groupby(['state']).size()"
   ]
  },
  {
   "cell_type": "code",
   "execution_count": 36,
   "metadata": {},
   "outputs": [],
   "source": [
    "#dfbsrv_restaurants = dfbsrv_restaurants[dfbsrv_restaurants['state'] == 'IL' ]\n",
    "#dfbsrv_restaurants.groupby(['state']).size()"
   ]
  },
  {
   "cell_type": "code",
   "execution_count": 37,
   "metadata": {},
   "outputs": [],
   "source": [
    "#dfbsrv_restaurants.shape"
   ]
  },
  {
   "cell_type": "code",
   "execution_count": 38,
   "metadata": {},
   "outputs": [
    {
     "data": {
      "text/html": [
       "<div>\n",
       "<style scoped>\n",
       "    .dataframe tbody tr th:only-of-type {\n",
       "        vertical-align: middle;\n",
       "    }\n",
       "\n",
       "    .dataframe tbody tr th {\n",
       "        vertical-align: top;\n",
       "    }\n",
       "\n",
       "    .dataframe thead th {\n",
       "        text-align: right;\n",
       "    }\n",
       "</style>\n",
       "<table border=\"1\" class=\"dataframe\">\n",
       "  <thead>\n",
       "    <tr style=\"text-align: right;\">\n",
       "      <th></th>\n",
       "      <th>attributes_AgesAllowed</th>\n",
       "      <th>attributes_Alcohol</th>\n",
       "      <th>attributes_BYOB</th>\n",
       "      <th>attributes_BYOBCorkage</th>\n",
       "      <th>attributes_BikeParking</th>\n",
       "      <th>attributes_BusinessAcceptsBitcoin</th>\n",
       "      <th>attributes_BusinessAcceptsCreditCards</th>\n",
       "      <th>attributes_CoatCheck</th>\n",
       "      <th>attributes_Corkage</th>\n",
       "      <th>attributes_DriveThru</th>\n",
       "      <th>...</th>\n",
       "      <th>review_count</th>\n",
       "      <th>state</th>\n",
       "      <th>cool</th>\n",
       "      <th>date</th>\n",
       "      <th>funny</th>\n",
       "      <th>review_id</th>\n",
       "      <th>stars</th>\n",
       "      <th>text</th>\n",
       "      <th>useful</th>\n",
       "      <th>user_id</th>\n",
       "    </tr>\n",
       "  </thead>\n",
       "  <tbody>\n",
       "  </tbody>\n",
       "</table>\n",
       "<p>0 rows × 42 columns</p>\n",
       "</div>"
      ],
      "text/plain": [
       "Empty DataFrame\n",
       "Columns: [attributes_AgesAllowed, attributes_Alcohol, attributes_BYOB, attributes_BYOBCorkage, attributes_BikeParking, attributes_BusinessAcceptsBitcoin, attributes_BusinessAcceptsCreditCards, attributes_CoatCheck, attributes_Corkage, attributes_DriveThru, attributes_GoodForDancing, attributes_GoodForKids, attributes_HappyHour, attributes_HasTV, attributes_NoiseLevel, attributes_Open24Hours, attributes_OutdoorSeating, attributes_RestaurantsAttire, attributes_RestaurantsCounterService, attributes_RestaurantsDelivery, attributes_RestaurantsGoodForGroups, attributes_RestaurantsPriceRange2, attributes_RestaurantsReservations, attributes_RestaurantsTableService, attributes_RestaurantsTakeOut, attributes_Smoking, attributes_WheelchairAccessible, attributes_WiFi, business_id, categories, latitude, longitude, review_count, state, cool, date, funny, review_id, stars, text, useful, user_id]\n",
       "Index: []\n",
       "\n",
       "[0 rows x 42 columns]"
      ]
     },
     "execution_count": 38,
     "metadata": {},
     "output_type": "execute_result"
    }
   ],
   "source": [
    "dfbsrv_restaurants.dropna()"
   ]
  },
  {
   "cell_type": "code",
   "execution_count": 39,
   "metadata": {},
   "outputs": [],
   "source": [
    "def cloudwordgraph(dataframe):\n",
    "  # Python program to generate WordCloud \n",
    "  \n",
    "    # Reads 'Youtube04-Eminem.csv' file  \n",
    "    df = dataframe  #['text']  #pd.read_csv(r\"Youtube04-Eminem.csv\", encoding =\"latin-1\") \n",
    "  \n",
    "    comment_words = ' '\n",
    "    stopwords = set(STOPWORDS) \n",
    "  \n",
    "    # iterate through the csv file \n",
    "    for val in df.text: \n",
    "        # typecaste each val to string \n",
    "        val = str(val) \n",
    "  \n",
    "        # split the value \n",
    "        tokens = val.split() \n",
    "      \n",
    "        # Converts each token into lowercase \n",
    "        for i in range(len(tokens)): \n",
    "            tokens[i] = tokens[i].lower() \n",
    "          \n",
    "        for words in tokens: \n",
    "            comment_words = comment_words + words + ' '\n",
    "  \n",
    "  \n",
    "    wordcloud = WordCloud(width = 800, height = 800, \n",
    "                background_color ='white', \n",
    "                stopwords = stopwords, \n",
    "                min_font_size = 10).generate(comment_words) \n",
    "  \n",
    "    # plot the WordCloud image                        \n",
    "    plt.figure(figsize = (8, 8), facecolor = None) \n",
    "    plt.imshow(wordcloud) \n",
    "    plt.axis(\"off\") \n",
    "    plt.tight_layout(pad = 0) \n",
    "  \n",
    "    plt.show() "
   ]
  },
  {
   "cell_type": "code",
   "execution_count": 40,
   "metadata": {},
   "outputs": [],
   "source": [
    "#sns.lmplot(x='latitude', y='longitude', data=dfbsrv, \n",
    "#           fit_reg=False, #remove regression line\n",
    "#           hue='stars', col=\"stars\",\n",
    "#           height=6, aspect=.4, x_jitter=.1)   #color by evolution stage"
   ]
  },
  {
   "cell_type": "code",
   "execution_count": 41,
   "metadata": {},
   "outputs": [
    {
     "data": {
      "text/plain": [
       "(3149598, 42)"
      ]
     },
     "execution_count": 41,
     "metadata": {},
     "output_type": "execute_result"
    }
   ],
   "source": [
    "dfbsrv_restaurants.shape"
   ]
  },
  {
   "cell_type": "code",
   "execution_count": 42,
   "metadata": {},
   "outputs": [],
   "source": [
    "#dfbsrv_restaurants['categories'].unique()"
   ]
  },
  {
   "cell_type": "code",
   "execution_count": 43,
   "metadata": {},
   "outputs": [
    {
     "data": {
      "image/png": "[encoded data removed]",
      "text/plain": [
       "<Figure size 1584x360 with 1 Axes>"
      ]
     },
     "metadata": {},
     "output_type": "display_data"
    }
   ],
   "source": [
    "bar_plot_atrribute('stars')"
   ]
  },
  {
   "cell_type": "markdown",
   "metadata": {},
   "source": [
    "# Word Cloud for stars = 1 & stars = 5"
   ]
  },
  {
   "cell_type": "code",
   "execution_count": 44,
   "metadata": {},
   "outputs": [],
   "source": [
    "#cloudwordgraph(dfbsrv_restaurants[(dfbsrv_restaurants['stars'] == 1)])"
   ]
  },
  {
   "cell_type": "code",
   "execution_count": 45,
   "metadata": {},
   "outputs": [],
   "source": [
    "#cloudwordgraph(dfbsrv_restaurants[(dfbsrv_restaurants['stars'] == 5)])"
   ]
  },
  {
   "cell_type": "markdown",
   "metadata": {},
   "source": [
    "# Manipulate text data"
   ]
  },
  {
   "cell_type": "code",
   "execution_count": 46,
   "metadata": {},
   "outputs": [
    {
     "ename": "TypeError",
     "evalue": "The `text` argument passed to `__init__(text)` must be a string, not <class 'float'>",
     "output_type": "error",
     "traceback": [
      "\u001b[0;31m---------------------------------------------------------------------------\u001b[0m",
      "\u001b[0;31mTypeError\u001b[0m                                 Traceback (most recent call last)",
      "\u001b[0;32m<ipython-input-46-34fbdcd2b90d>\u001b[0m in \u001b[0;36m<module>\u001b[0;34m\u001b[0m\n\u001b[0;32m----> 1\u001b[0;31m \u001b[0mdfbsrv_restaurants\u001b[0m\u001b[0;34m[\u001b[0m\u001b[0;34m'polarity'\u001b[0m\u001b[0;34m]\u001b[0m \u001b[0;34m=\u001b[0m \u001b[0mdfbsrv_restaurants\u001b[0m\u001b[0;34m[\u001b[0m\u001b[0;34m'text'\u001b[0m\u001b[0;34m]\u001b[0m\u001b[0;34m.\u001b[0m\u001b[0mmap\u001b[0m\u001b[0;34m(\u001b[0m\u001b[0;32mlambda\u001b[0m \u001b[0mtext\u001b[0m\u001b[0;34m:\u001b[0m \u001b[0mTextBlob\u001b[0m\u001b[0;34m(\u001b[0m\u001b[0mtext\u001b[0m\u001b[0;34m)\u001b[0m\u001b[0;34m.\u001b[0m\u001b[0msentiment\u001b[0m\u001b[0;34m.\u001b[0m\u001b[0mpolarity\u001b[0m\u001b[0;34m)\u001b[0m\u001b[0;34m\u001b[0m\u001b[0;34m\u001b[0m\u001b[0m\n\u001b[0m\u001b[1;32m      2\u001b[0m \u001b[0mdfbsrv_restaurants\u001b[0m\u001b[0;34m[\u001b[0m\u001b[0;34m'review_len'\u001b[0m\u001b[0;34m]\u001b[0m \u001b[0;34m=\u001b[0m \u001b[0mdfbsrv_restaurants\u001b[0m\u001b[0;34m[\u001b[0m\u001b[0;34m'text'\u001b[0m\u001b[0;34m]\u001b[0m\u001b[0;34m.\u001b[0m\u001b[0mastype\u001b[0m\u001b[0;34m(\u001b[0m\u001b[0mstr\u001b[0m\u001b[0;34m)\u001b[0m\u001b[0;34m.\u001b[0m\u001b[0mapply\u001b[0m\u001b[0;34m(\u001b[0m\u001b[0mlen\u001b[0m\u001b[0;34m)\u001b[0m\u001b[0;34m\u001b[0m\u001b[0;34m\u001b[0m\u001b[0m\n\u001b[1;32m      3\u001b[0m \u001b[0mdfbsrv_restaurants\u001b[0m\u001b[0;34m[\u001b[0m\u001b[0;34m'word_count'\u001b[0m\u001b[0;34m]\u001b[0m \u001b[0;34m=\u001b[0m \u001b[0mdfbsrv_restaurants\u001b[0m\u001b[0;34m[\u001b[0m\u001b[0;34m'text'\u001b[0m\u001b[0;34m]\u001b[0m\u001b[0;34m.\u001b[0m\u001b[0mapply\u001b[0m\u001b[0;34m(\u001b[0m\u001b[0;32mlambda\u001b[0m \u001b[0mx\u001b[0m\u001b[0;34m:\u001b[0m \u001b[0mlen\u001b[0m\u001b[0;34m(\u001b[0m\u001b[0mstr\u001b[0m\u001b[0;34m(\u001b[0m\u001b[0mx\u001b[0m\u001b[0;34m)\u001b[0m\u001b[0;34m.\u001b[0m\u001b[0msplit\u001b[0m\u001b[0;34m(\u001b[0m\u001b[0;34m)\u001b[0m\u001b[0;34m)\u001b[0m\u001b[0;34m)\u001b[0m\u001b[0;34m\u001b[0m\u001b[0;34m\u001b[0m\u001b[0m\n",
      "\u001b[0;32m~/anaconda3/lib/python3.7/site-packages/pandas/core/series.py\u001b[0m in \u001b[0;36mmap\u001b[0;34m(self, arg, na_action)\u001b[0m\n\u001b[1;32m   2996\u001b[0m         \"\"\"\n\u001b[1;32m   2997\u001b[0m         new_values = super(Series, self)._map_values(\n\u001b[0;32m-> 2998\u001b[0;31m             arg, na_action=na_action)\n\u001b[0m\u001b[1;32m   2999\u001b[0m         return self._constructor(new_values,\n\u001b[1;32m   3000\u001b[0m                                  index=self.index).__finalize__(self)\n",
      "\u001b[0;32m~/anaconda3/lib/python3.7/site-packages/pandas/core/base.py\u001b[0m in \u001b[0;36m_map_values\u001b[0;34m(self, mapper, na_action)\u001b[0m\n\u001b[1;32m   1002\u001b[0m \u001b[0;34m\u001b[0m\u001b[0m\n\u001b[1;32m   1003\u001b[0m         \u001b[0;31m# mapper is a function\u001b[0m\u001b[0;34m\u001b[0m\u001b[0;34m\u001b[0m\u001b[0;34m\u001b[0m\u001b[0m\n\u001b[0;32m-> 1004\u001b[0;31m         \u001b[0mnew_values\u001b[0m \u001b[0;34m=\u001b[0m \u001b[0mmap_f\u001b[0m\u001b[0;34m(\u001b[0m\u001b[0mvalues\u001b[0m\u001b[0;34m,\u001b[0m \u001b[0mmapper\u001b[0m\u001b[0;34m)\u001b[0m\u001b[0;34m\u001b[0m\u001b[0;34m\u001b[0m\u001b[0m\n\u001b[0m\u001b[1;32m   1005\u001b[0m \u001b[0;34m\u001b[0m\u001b[0m\n\u001b[1;32m   1006\u001b[0m         \u001b[0;32mreturn\u001b[0m \u001b[0mnew_values\u001b[0m\u001b[0;34m\u001b[0m\u001b[0;34m\u001b[0m\u001b[0m\n",
      "\u001b[0;32mpandas/_libs/src/inference.pyx\u001b[0m in \u001b[0;36mpandas._libs.lib.map_infer\u001b[0;34m()\u001b[0m\n",
      "\u001b[0;32m<ipython-input-46-34fbdcd2b90d>\u001b[0m in \u001b[0;36m<lambda>\u001b[0;34m(text)\u001b[0m\n\u001b[0;32m----> 1\u001b[0;31m \u001b[0mdfbsrv_restaurants\u001b[0m\u001b[0;34m[\u001b[0m\u001b[0;34m'polarity'\u001b[0m\u001b[0;34m]\u001b[0m \u001b[0;34m=\u001b[0m \u001b[0mdfbsrv_restaurants\u001b[0m\u001b[0;34m[\u001b[0m\u001b[0;34m'text'\u001b[0m\u001b[0;34m]\u001b[0m\u001b[0;34m.\u001b[0m\u001b[0mmap\u001b[0m\u001b[0;34m(\u001b[0m\u001b[0;32mlambda\u001b[0m \u001b[0mtext\u001b[0m\u001b[0;34m:\u001b[0m \u001b[0mTextBlob\u001b[0m\u001b[0;34m(\u001b[0m\u001b[0mtext\u001b[0m\u001b[0;34m)\u001b[0m\u001b[0;34m.\u001b[0m\u001b[0msentiment\u001b[0m\u001b[0;34m.\u001b[0m\u001b[0mpolarity\u001b[0m\u001b[0;34m)\u001b[0m\u001b[0;34m\u001b[0m\u001b[0;34m\u001b[0m\u001b[0m\n\u001b[0m\u001b[1;32m      2\u001b[0m \u001b[0mdfbsrv_restaurants\u001b[0m\u001b[0;34m[\u001b[0m\u001b[0;34m'review_len'\u001b[0m\u001b[0;34m]\u001b[0m \u001b[0;34m=\u001b[0m \u001b[0mdfbsrv_restaurants\u001b[0m\u001b[0;34m[\u001b[0m\u001b[0;34m'text'\u001b[0m\u001b[0;34m]\u001b[0m\u001b[0;34m.\u001b[0m\u001b[0mastype\u001b[0m\u001b[0;34m(\u001b[0m\u001b[0mstr\u001b[0m\u001b[0;34m)\u001b[0m\u001b[0;34m.\u001b[0m\u001b[0mapply\u001b[0m\u001b[0;34m(\u001b[0m\u001b[0mlen\u001b[0m\u001b[0;34m)\u001b[0m\u001b[0;34m\u001b[0m\u001b[0;34m\u001b[0m\u001b[0m\n\u001b[1;32m      3\u001b[0m \u001b[0mdfbsrv_restaurants\u001b[0m\u001b[0;34m[\u001b[0m\u001b[0;34m'word_count'\u001b[0m\u001b[0;34m]\u001b[0m \u001b[0;34m=\u001b[0m \u001b[0mdfbsrv_restaurants\u001b[0m\u001b[0;34m[\u001b[0m\u001b[0;34m'text'\u001b[0m\u001b[0;34m]\u001b[0m\u001b[0;34m.\u001b[0m\u001b[0mapply\u001b[0m\u001b[0;34m(\u001b[0m\u001b[0;32mlambda\u001b[0m \u001b[0mx\u001b[0m\u001b[0;34m:\u001b[0m \u001b[0mlen\u001b[0m\u001b[0;34m(\u001b[0m\u001b[0mstr\u001b[0m\u001b[0;34m(\u001b[0m\u001b[0mx\u001b[0m\u001b[0;34m)\u001b[0m\u001b[0;34m.\u001b[0m\u001b[0msplit\u001b[0m\u001b[0;34m(\u001b[0m\u001b[0;34m)\u001b[0m\u001b[0;34m)\u001b[0m\u001b[0;34m)\u001b[0m\u001b[0;34m\u001b[0m\u001b[0;34m\u001b[0m\u001b[0m\n",
      "\u001b[0;32m~/anaconda3/lib/python3.7/site-packages/textblob/blob.py\u001b[0m in \u001b[0;36m__init__\u001b[0;34m(self, text, tokenizer, pos_tagger, np_extractor, analyzer, parser, classifier, clean_html)\u001b[0m\n\u001b[1;32m    368\u001b[0m         \u001b[0;32mif\u001b[0m \u001b[0;32mnot\u001b[0m \u001b[0misinstance\u001b[0m\u001b[0;34m(\u001b[0m\u001b[0mtext\u001b[0m\u001b[0;34m,\u001b[0m \u001b[0mbasestring\u001b[0m\u001b[0;34m)\u001b[0m\u001b[0;34m:\u001b[0m\u001b[0;34m\u001b[0m\u001b[0;34m\u001b[0m\u001b[0m\n\u001b[1;32m    369\u001b[0m             raise TypeError('The `text` argument passed to `__init__(text)` '\n\u001b[0;32m--> 370\u001b[0;31m                             'must be a string, not {0}'.format(type(text)))\n\u001b[0m\u001b[1;32m    371\u001b[0m         \u001b[0;32mif\u001b[0m \u001b[0mclean_html\u001b[0m\u001b[0;34m:\u001b[0m\u001b[0;34m\u001b[0m\u001b[0;34m\u001b[0m\u001b[0m\n\u001b[1;32m    372\u001b[0m             raise NotImplementedError(\"clean_html has been deprecated. \"\n",
      "\u001b[0;31mTypeError\u001b[0m: The `text` argument passed to `__init__(text)` must be a string, not <class 'float'>"
     ]
    }
   ],
   "source": [
    "dfbsrv_restaurants['polarity'] = dfbsrv_restaurants['text'].map(lambda text: TextBlob(text).sentiment.polarity)\n",
    "dfbsrv_restaurants['review_len'] = dfbsrv_restaurants['text'].astype(str).apply(len)\n",
    "dfbsrv_restaurants['word_count'] = dfbsrv_restaurants['text'].apply(lambda x: len(str(x).split()))"
   ]
  },
  {
   "cell_type": "code",
   "execution_count": null,
   "metadata": {},
   "outputs": [],
   "source": [
    "#Plot polarity vs stars from 1 to 5\n",
    "plt.figure(figsize=(10,6))\n",
    "x1 = dfbsrv_restaurants[dfbsrv_restaurants['stars'] == 1]\n",
    "x2 = dfbsrv_restaurants[dfbsrv_restaurants['stars'] == 2]\n",
    "x3 = dfbsrv_restaurants[dfbsrv_restaurants['stars'] == 3]\n",
    "x4 = dfbsrv_restaurants[dfbsrv_restaurants['stars'] == 4]\n",
    "x5 = dfbsrv_restaurants[dfbsrv_restaurants['stars'] == 5]\n",
    "\n",
    "x = pd.Series(x1['polarity'], name=\"polarity\")\n",
    "ax = sns.distplot(x, label='1 star', kde = False)\n",
    "\n",
    "x = pd.Series(x2['polarity'], name=\"polarity\")\n",
    "bx = sns.distplot(x, kde = False)\n",
    "\n",
    "x = pd.Series(x3['polarity'], name=\"polarity\")\n",
    "cx = sns.distplot(x, kde = False)\n",
    "\n",
    "x = pd.Series(x4['polarity'], name=\"polarity\")\n",
    "dx = sns.distplot(x, kde = False)\n",
    "\n",
    "x = pd.Series(x5['polarity'], name=\"polarity\")\n",
    "dx = sns.distplot(x, label='5 stars' , kde = False)\n",
    "\n",
    "\n",
    "plt.legend()"
   ]
  },
  {
   "cell_type": "code",
   "execution_count": null,
   "metadata": {},
   "outputs": [],
   "source": [
    "print('5 random reviews with the LOWEST positive sentiment polarity: \\n')\n",
    "cl = dfbsrv_restaurants.loc[dfbsrv_restaurants.polarity < -0.9, ['polarity','text']].sample(5).values\n",
    "#print(df.polarity, )\n",
    "#print(cl)\n",
    "for c in cl:\n",
    "    print( c[0], c[1])"
   ]
  },
  {
   "cell_type": "code",
   "execution_count": null,
   "metadata": {},
   "outputs": [],
   "source": [
    "print('5 random reviews with the HIGHEST positive sentiment polarity: \\n')\n",
    "cl = dfbsrv_restaurants.loc[dfbsrv_restaurants.polarity > 0.9, ['polarity','text']].sample(5).values\n",
    "#print(df.polarity, )\n",
    "#print(cl)\n",
    "for c in cl:\n",
    "    print( c[0], c[1])"
   ]
  },
  {
   "cell_type": "code",
   "execution_count": null,
   "metadata": {},
   "outputs": [],
   "source": [
    "plt.figure(figsize=(22,10))\n",
    "sns.boxplot(x='stars', y='polarity', data=dfbsrv_restaurants)\n",
    "plt.show();"
   ]
  },
  {
   "cell_type": "code",
   "execution_count": null,
   "metadata": {
    "scrolled": true
   },
   "outputs": [],
   "source": [
    "#Stars = 1, Polarity Negative\n",
    "cloudwordgraph(dfbsrv_restaurants[(dfbsrv_restaurants['stars'] == 1) & (dfbsrv_restaurants['polarity'] < -0.8)])"
   ]
  },
  {
   "cell_type": "code",
   "execution_count": null,
   "metadata": {},
   "outputs": [],
   "source": [
    "#Stars = 1, Polarity Positive\n",
    "cloudwordgraph(dfbsrv_restaurants[(dfbsrv_restaurants['stars'] == 1) & (dfbsrv_restaurants['polarity'] > 0.8)])"
   ]
  },
  {
   "cell_type": "code",
   "execution_count": null,
   "metadata": {},
   "outputs": [],
   "source": [
    "#Stars = 5, Polarity Positive\n",
    "cloudwordgraph(dfbsrv_restaurants[(dfbsrv_restaurants['stars'] == 5) & (dfbsrv_restaurants['polarity'] > 0.8)])"
   ]
  },
  {
   "cell_type": "code",
   "execution_count": null,
   "metadata": {},
   "outputs": [],
   "source": [
    "#Stars = 5, Polarity Negative\n",
    "cloudwordgraph(dfbsrv_restaurants[(dfbsrv_restaurants['stars'] == 5) & (dfbsrv_restaurants['polarity'] < -0.5)])"
   ]
  },
  {
   "cell_type": "markdown",
   "metadata": {},
   "source": [
    "## Removal of Stop Words\n",
    "As we discussed earlier, stop words (or commonly occurring words) should be removed from the text data. For this purpose, we can either create a list of stopwords ourselves or we can use predefined libraries."
   ]
  },
  {
   "cell_type": "code",
   "execution_count": null,
   "metadata": {},
   "outputs": [],
   "source": [
    "dfbsrv_restaurants['text lower'] = dfbsrv_restaurants['text'].apply(lambda x: \" \".join(x.lower() for x in x.split()))\n",
    "dfbsrv_restaurants['text lower'] = dfbsrv_restaurants['text'].str.replace('[^\\w\\s]','')\n",
    "\n",
    "\n",
    "dfbsrv_restaurants['text lower'].head()"
   ]
  },
  {
   "cell_type": "code",
   "execution_count": null,
   "metadata": {},
   "outputs": [],
   "source": [
    "from nltk.corpus import stopwords\n",
    "\n",
    "import nltk\n",
    "nltk.download('stopwords')"
   ]
  },
  {
   "cell_type": "code",
   "execution_count": null,
   "metadata": {},
   "outputs": [],
   "source": [
    "stop = stopwords.words('english')\n",
    "dfbsrv_restaurants['text lower stopwords'] = dfbsrv_restaurants['text lower'].apply(lambda x: \" \".join(x for x in x.split() if x not in stop))\n",
    "dfbsrv_restaurants['text lower stopwords'].head()"
   ]
  },
  {
   "cell_type": "code",
   "execution_count": null,
   "metadata": {},
   "outputs": [],
   "source": [
    "#freq = pd.Series(' '.join(dfbsrv_restaurants['text']).split()).value_counts()[:10]\n",
    "#freq"
   ]
  },
  {
   "cell_type": "code",
   "execution_count": null,
   "metadata": {},
   "outputs": [],
   "source": [
    "#freq = pd.Series(' '.join(dfbsrv_restaurants['text']).split()).value_counts()[-10:]\n",
    "#freq"
   ]
  },
  {
   "cell_type": "markdown",
   "metadata": {},
   "source": [
    "## 2.6 Spelling correction\n",
    "\n",
    "We’ve all seen reviews with a plethora of spelling mistakes. Our timelines are often filled with hastly sent tweets that are barely legible at times.\n",
    "\n",
    "In that regard, spelling correction is a useful pre-processing step because this also will help us in reducing multiple copies of words. For example, “Analytics” and “analytcs” will be treated as different words even if they are used in the same sense."
   ]
  },
  {
   "cell_type": "code",
   "execution_count": null,
   "metadata": {},
   "outputs": [],
   "source": [
    "from textblob import Word\n",
    "dfbsrv_restaurants['text_lemm'] = dfbsrv_restaurants['text lower stopwords'].apply(lambda x: \" \".join([Word(word).lemmatize() for word in x.split()]))\n",
    "dfbsrv_restaurants['text_lemm'].head()"
   ]
  },
  {
   "cell_type": "markdown",
   "metadata": {},
   "source": [
    "# 3.1 N-grams\n",
    "\n",
    "N-grams are the combination of multiple words used together. Ngrams with N=1 are called unigrams. Similarly, bigrams (N=2), trigrams (N=3) and so on can also be used.\n",
    "\n"
   ]
  },
  {
   "cell_type": "code",
   "execution_count": null,
   "metadata": {},
   "outputs": [],
   "source": [
    "!pip install -U textblob"
   ]
  },
  {
   "cell_type": "code",
   "execution_count": null,
   "metadata": {},
   "outputs": [],
   "source": [
    "!python -m textblob.download_corpora"
   ]
  },
  {
   "cell_type": "code",
   "execution_count": null,
   "metadata": {},
   "outputs": [],
   "source": [
    "#TextBlob(dfbsrv_restaurants['text_lemm'][0]).ngrams(2)\n",
    "\n",
    "#blob = TextBlob(dfbsrv_restaurants['text_lemm'][0])\n",
    "#blob.ngrams(n=3)"
   ]
  },
  {
   "cell_type": "code",
   "execution_count": null,
   "metadata": {},
   "outputs": [],
   "source": [
    "#plt.figure(figsize=(10,6))\n",
    "#sns.boxplot(x='attributes_NoiseLevel', y='stars', data=dfbsrv_restaurants)\n",
    "#plt.show();"
   ]
  },
  {
   "cell_type": "code",
   "execution_count": null,
   "metadata": {},
   "outputs": [],
   "source": [
    "#plt.figure(figsize=(10,6))\n",
    "#sns.boxplot(x='attributes_WiFi', y='stars', data=dfbsrv_restaurants)\n",
    "#plt.show();"
   ]
  },
  {
   "cell_type": "markdown",
   "metadata": {},
   "source": [
    "# N-grams"
   ]
  },
  {
   "cell_type": "code",
   "execution_count": null,
   "metadata": {},
   "outputs": [],
   "source": [
    "#import re\n",
    "\n",
    "#def generate_ngrams(s, n):\n",
    "    # Convert to lowercases\n",
    "#    s = s.lower()\n",
    "    \n",
    "    # Replace all none alphanumeric characters with spaces\n",
    "#    s = re.sub(r'[^a-zA-Z0-9\\s]', ' ', s)\n",
    "    \n",
    "    # Break sentence in the token, remove empty tokens\n",
    "#    tokens = [token for token in s.split(\" \") if token != \"\"]\n",
    "    \n",
    "    # Use the zip function to help us generate n-grams\n",
    "    # Concatentate the tokens into ngrams and return\n",
    "#    ngrams = zip(*[token[i:] for i in range(n)])\n",
    "#    return [\" \".join(ngram) for ngram in ngrams]"
   ]
  },
  {
   "cell_type": "code",
   "execution_count": null,
   "metadata": {},
   "outputs": [],
   "source": [
    "#import re\n",
    "#from nltk.util import ngrams\n",
    "\n",
    "#s = s.lower()\n",
    "#s = re.sub(r'[^a-zA-Z0-9\\s]', ' ', s)\n",
    "#tokens = [token for token in s.split(\" \") if token != \"\"]\n",
    "#output = list(ngrams(tokens, 5))"
   ]
  },
  {
   "cell_type": "code",
   "execution_count": null,
   "metadata": {},
   "outputs": [],
   "source": [
    "#TextBlob(dfbsrv_restaurants['text']).ngrams(2)"
   ]
  },
  {
   "cell_type": "code",
   "execution_count": null,
   "metadata": {},
   "outputs": [],
   "source": [
    "#dfbsrv_restaurants.info()"
   ]
  },
  {
   "cell_type": "markdown",
   "metadata": {},
   "source": [
    "# N-Gram (2)"
   ]
  },
  {
   "cell_type": "code",
   "execution_count": null,
   "metadata": {},
   "outputs": [],
   "source": [
    "from sklearn.feature_extraction.text import CountVectorizer\n",
    "#word_vectorizer = CountVectorizer(ngram_range=(2,2), analyzer='word')\n",
    "#sparse_matrix = word_vectorizer.fit_transform(dfbsrv_restaurants['text_lemm'])\n",
    "#frequencies = sum(sparse_matrix).toarray()[0]"
   ]
  },
  {
   "cell_type": "code",
   "execution_count": null,
   "metadata": {},
   "outputs": [],
   "source": [
    "#n_gram_2 = pd.DataFrame(frequencies, index=word_vectorizer.get_feature_names(), columns=['frequency'])\n",
    "#print(n_gram_2)"
   ]
  },
  {
   "cell_type": "code",
   "execution_count": null,
   "metadata": {},
   "outputs": [],
   "source": [
    "#n_gram_2.columns\n",
    "#n_gram_2.columns = ['n-gram', 'frequency']\n",
    "#top = n_gram_2.nlargest(15, 'frequency')\n",
    "#type(top)"
   ]
  },
  {
   "cell_type": "code",
   "execution_count": null,
   "metadata": {},
   "outputs": [],
   "source": [
    "#sns.barplot(data = top.reset_index(), x = 'index', y = 'frequency', orient = 'v')\n",
    "#plt.figure(figsize = (22, 8), facecolor = None) \n",
    "#ax = sns.barplot(x = 'index', y = 'frequency',data = top.reset_index())\n"
   ]
  },
  {
   "cell_type": "code",
   "execution_count": null,
   "metadata": {},
   "outputs": [],
   "source": [
    "def n_gram_creator(n, k):\n",
    "    #word_vectorizer = CountVectorizer(ngram_range=(3 ,3), analyzer='word')\n",
    "    word_vectorizer = CountVectorizer(ngram_range=(n,n), analyzer='word')\n",
    "    sparse_matrix = word_vectorizer.fit_transform(dfbsrv_restaurants['text_lemm'])\n",
    "    frequencies = sum(sparse_matrix).toarray()[0]\n",
    "    n_gram = pd.DataFrame(frequencies, index=word_vectorizer.get_feature_names(), columns=['frequency'])\n",
    "    top = n_gram.nlargest(k, 'frequency')\n",
    "    plt.figure(figsize = (22, 8), facecolor = None) \n",
    "    ax = sns.barplot(x = 'index', y = 'frequency',data = top.reset_index())"
   ]
  },
  {
   "cell_type": "code",
   "execution_count": null,
   "metadata": {},
   "outputs": [],
   "source": [
    "n_gram_creator(2, 15)"
   ]
  },
  {
   "cell_type": "code",
   "execution_count": null,
   "metadata": {},
   "outputs": [],
   "source": [
    "n_gram_creator(3, 15)"
   ]
  },
  {
   "cell_type": "code",
   "execution_count": null,
   "metadata": {},
   "outputs": [],
   "source": [
    "from sklearn.feature_extraction.text import CountVectorizer\n",
    "word_vectorizer = CountVectorizer(ngram_range=(3,3), analyzer='word')\n",
    "sparse_matrix = word_vectorizer.fit_transform(dfbsrv_restaurants['text_lemm'])\n",
    "frequencies = sum(sparse_matrix).toarray()[0]"
   ]
  },
  {
   "cell_type": "code",
   "execution_count": null,
   "metadata": {},
   "outputs": [],
   "source": [
    "n_gram_3 = pd.DataFrame(frequencies, index=word_vectorizer.get_feature_names(), columns=['frequency'])"
   ]
  },
  {
   "cell_type": "code",
   "execution_count": null,
   "metadata": {},
   "outputs": [],
   "source": [
    "top = n_gram_2.nlargest(15, 'frequency')"
   ]
  },
  {
   "cell_type": "code",
   "execution_count": null,
   "metadata": {},
   "outputs": [],
   "source": [
    "plt.figure(figsize = (22, 8), facecolor = None) \n",
    "ax = sns.barplot(x = 'index', y = 'frequency',data = top.reset_index())"
   ]
  },
  {
   "cell_type": "code",
   "execution_count": null,
   "metadata": {},
   "outputs": [],
   "source": [
    "ax.set_xticklabels(rotation=30)"
   ]
  },
  {
   "cell_type": "code",
   "execution_count": null,
   "metadata": {},
   "outputs": [],
   "source": [
    "import seaborn as sns\n",
    "planets = sns.load_dataset(\"planets\")\n",
    "g = sns.factorplot(\"year\", data=planets, aspect=1.5, kind=\"count\", color=\"b\")\n",
    "g.set_xticklabels(rotation=30)"
   ]
  },
  {
   "cell_type": "code",
   "execution_count": null,
   "metadata": {},
   "outputs": [],
   "source": [
    "dfbsrv_restaurants.columns"
   ]
  },
  {
   "cell_type": "code",
   "execution_count": null,
   "metadata": {},
   "outputs": [],
   "source": [
    "#dfx = pd.DataFrame(data = dfbsrv_restaurants, columns=['attributes_AgesAllowed', 'attributes_Alcohol', 'attributes_BYOB',\n",
    "#       'attributes_BYOBCorkage', 'attributes_BikeParking',\n",
    "#       'attributes_BusinessAcceptsBitcoin',\n",
    "#       'attributes_BusinessAcceptsCreditCards', 'attributes_CoatCheck',\n",
    "#       'attributes_Corkage', 'attributes_DriveThru',\n",
    "#       'attributes_GoodForDancing', 'attributes_GoodForKids',\n",
    "#       'attributes_HappyHour', 'attributes_HasTV', 'attributes_NoiseLevel',\n",
    "#       'attributes_Open24Hours', 'attributes_OutdoorSeating',\n",
    "#       'attributes_RestaurantsAttire', 'attributes_RestaurantsCounterService',\n",
    "#       'attributes_RestaurantsDelivery', 'attributes_RestaurantsGoodForGroups',\n",
    "#       'attributes_RestaurantsPriceRange2',\n",
    "#       'attributes_RestaurantsReservations',\n",
    "#       'attributes_RestaurantsTableService', 'attributes_RestaurantsTakeOut',\n",
    "#       'attributes_Smoking', 'attributes_WheelchairAccessible',\n",
    "#       'attributes_WiFi', 'business_id', 'categories', 'latitude', 'longitude',\n",
    "#       'review_count', 'state', 'cool', 'date', 'funny', 'review_id', 'stars',\n",
    "#       'text', 'useful', 'user_id', 'polarity', 'review_len', 'word_count',\n",
    "#       'text lower', 'text lower stopwords', 'text_lemm'])\n",
    "#dfx.to_csv('dfx.csv',index=False,header=True)"
   ]
  },
  {
   "cell_type": "code",
   "execution_count": null,
   "metadata": {},
   "outputs": [],
   "source": [
    "dfbsrv_restaurants.to_excel(\"dfx_output.xlsx\",\n",
    "...              sheet_name='Sheet_name_1')"
   ]
  },
  {
   "cell_type": "code",
   "execution_count": null,
   "metadata": {},
   "outputs": [],
   "source": []
  }
 ],
 "metadata": {
  "kernelspec": {
   "display_name": "Python 3",
   "language": "python",
   "name": "python3"
  },
  "language_info": {
   "codemirror_mode": {
    "name": "ipython",
    "version": 3
   },
   "file_extension": ".py",
   "mimetype": "text/x-python",
   "name": "python",
   "nbconvert_exporter": "python",
   "pygments_lexer": "ipython3",
   "version": "3.7.1"
  }
 },
 "nbformat": 4,
 "nbformat_minor": 2
}
